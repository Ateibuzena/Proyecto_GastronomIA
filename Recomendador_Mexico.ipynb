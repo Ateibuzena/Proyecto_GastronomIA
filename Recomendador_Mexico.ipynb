{
 "cells": [
  {
   "cell_type": "markdown",
   "metadata": {},
   "source": [
    "### LIBRERÍAS"
   ]
  },
  {
   "cell_type": "code",
   "execution_count": 1,
   "metadata": {},
   "outputs": [],
   "source": [
    "import pandas as pd\n",
    "import mysql.connector"
   ]
  },
  {
   "cell_type": "markdown",
   "metadata": {},
   "source": [
    "### PROCESAMIENTO"
   ]
  },
  {
   "cell_type": "code",
   "execution_count": 2,
   "metadata": {},
   "outputs": [],
   "source": [
    "df_ratin_final = pd.read_csv(\"Data/rating_final.csv\")\n",
    "df_accepts = pd.read_csv(\"Data/chefmozaccepts.csv\")\n",
    "df_cousine = pd.read_csv(\"Data/chefmozcuisine.csv\")\n",
    "df_houors4 = pd.read_csv(\"Data/chefmozhours4.csv\")\n",
    "df_geoplaces = pd.read_csv(\"Data/geoplaces2.csv\")\n",
    "df_parking = pd.read_csv(\"Data/chefmozparking.csv\")"
   ]
  },
  {
   "cell_type": "code",
   "execution_count": 4,
   "metadata": {},
   "outputs": [],
   "source": [
    "lista_id = df_geoplaces[\"placeID\"].unique()\n",
    "\n",
    "df_accepts = df_accepts[df_accepts['placeID'].isin(lista_id)]\n",
    "df_ratin_final = df_ratin_final[df_ratin_final['placeID'].isin(lista_id)]\n",
    "df_cousine = df_cousine[df_cousine['placeID'].isin(lista_id)]\n",
    "df_houors4 = df_houors4[df_houors4['placeID'].isin(lista_id)]\n",
    "df_parking = df_parking[df_parking['placeID'].isin(lista_id)]\n",
    "\n",
    "df_ratin_final.drop(\"userID\", axis=1, inplace=True)"
   ]
  },
  {
   "cell_type": "markdown",
   "metadata": {},
   "source": [
    "### FUNCIONES SQL (faltaría la contraseña de cada uno)"
   ]
  },
  {
   "cell_type": "code",
   "execution_count": 6,
   "metadata": {},
   "outputs": [],
   "source": [
    "# ESTABLECER CONEXIÓN CON LA BASE DE DATOS DE MYSQL\n",
    "# PARA GUARDAR LA CONEXIÓN Y EL CURSOR, HAY QUE IGUALAR LA FUNCIÓN A DOS VARIABLES\n",
    "def conexion():\n",
    "    db = mysql.connector.connect(host     = \"localhost\", # donde se aloja la base de datos\n",
    "                             user     = \"root\", # poned vuestro usuario\n",
    "                             password = \"\", # poned vuestra contraseña\n",
    "                             database = None)\n",
    "    cursor = db.cursor()\n",
    "    return db, cursor\n",
    "\n",
    "# CERRAR LA CONEXIÓN\n",
    "def cerrar_conexion(cursor, db):\n",
    "    cursor.fetchall() # se utiliza para recuperar todas las filas del conjunto de resultados después de ejecutar una consulta en una base de datos. Esto es útil cuando deseas trabajar con los resultados de una consulta en tu programa Python\n",
    "    cursor.close()\n",
    "    db.close()\n",
    "\n",
    "# CREAR UNA BASE DE DATOS DANDOLE EL NOMBRE DE LA BASE DE DATOS\n",
    "def crear_database(database):\n",
    "    db, cursor = conexion()\n",
    "    cursor.execute(f\"CREATE DATABASE IF NOT EXISTS {database};\")\n",
    "    cerrar_conexion(cursor, db)\n",
    "\n",
    "# CREAR UNA TABLA EN UNA BASE DE DATOS.\n",
    "# PASANDOLE LA BASE DE DATOS DONDE QUEREMOS CREARLA Y LA QUERY DE LA TABLA QUE QUEREMOS CREAR\n",
    "def crear_tablas(query, database):\n",
    "    db, cursor = conexion()\n",
    "    query_database = f\"USE {database};\"\n",
    "    cursor.execute(query_database)\n",
    "    cursor.execute(query)\n",
    "    cerrar_conexion(cursor, db)\n",
    "\n",
    "# EJECUTAR QUERYS DE CONSULTAS:\n",
    "def ejecutar_consulta(database, query):\n",
    "    db, cursor = conexion()\n",
    "    cursor.execute(f\"USE {database};\")\n",
    "\n",
    "    # Ejecutar la consulta\n",
    "    cursor.execute(query)\n",
    "    columnas = cursor.column_names\n",
    "    # Obtener los resultados, si es una consulta SELECT\n",
    "    resultados = cursor.fetchall()\n",
    "    # Hacer commit para guardar los cambios (en caso de INSERT, UPDATE, DELETE, etc.)\n",
    "    db.commit()\n",
    "    # Cerrar la conexión\n",
    "    cerrar_conexion(cursor, db)\n",
    "    return resultados, columnas\n",
    "\n",
    "def insertar_datos_porfila(df, database, tabla):\n",
    "    db, cursor = conexion()\n",
    "    cursor.execute(f\"USE {database};\")\n",
    "\n",
    "    # Iterar sobre las filas del DataFrame e insertar cada fila en la tabla\n",
    "    for _, fila in df.iterrows(): #Este método de pandas retorna un generador que produce pares (índice, fila) para cada fila del DataFrame df. \n",
    "                                  #el guion bajo _ se utiliza para descartar el índice, ya que no se está utilizando dentro del bucle.\n",
    "                                  #Aquí el isinstance verifica que le valor es un str, sino lo convierte a str ya que la query tiene que ser str\n",
    "        valores = \", \".join([f\"'{valor}'\" if isinstance(valor, str) else str(valor) for valor in fila])\n",
    "        query = f\"INSERT INTO {tabla} VALUES ({valores});\"\n",
    "        cursor.execute(query)\n",
    "\n",
    "    # Hacer commit para guardar los cambios\n",
    "    db.commit()\n",
    "    cerrar_conexion(cursor, db)"
   ]
  },
  {
   "cell_type": "markdown",
   "metadata": {},
   "source": [
    "### CREACIÓN DATABASE"
   ]
  },
  {
   "cell_type": "code",
   "execution_count": null,
   "metadata": {},
   "outputs": [],
   "source": [
    "crear_database(\"recomendador\")"
   ]
  },
  {
   "cell_type": "markdown",
   "metadata": {},
   "source": [
    "### QUERYS"
   ]
  },
  {
   "cell_type": "code",
   "execution_count": 8,
   "metadata": {},
   "outputs": [],
   "source": [
    "query_geoplaces = \"\"\"CREATE TABLE IF NOT EXISTS geoplaces (\n",
    "                    placeID INT UNSIGNED NOT NULL,\n",
    "                    latitude FLOAT, \n",
    "                    longitude FLOAT, \n",
    "                    the_geom_meter VARCHAR(255), \n",
    "                    name VARCHAR(255), \n",
    "                    address VARCHAR(255),\n",
    "                    city VARCHAR(255), \n",
    "                    state VARCHAR(255), \n",
    "                    country VARCHAR(255), \n",
    "                    fax VARCHAR(255), \n",
    "                    zip VARCHAR(255), \n",
    "                    alcohol VARCHAR(255), \n",
    "                    smoking_area VARCHAR(255),\n",
    "                    dress_code VARCHAR(255), \n",
    "                    accessibility VARCHAR(255), \n",
    "                    price VARCHAR(255), \n",
    "                    url VARCHAR(255), \n",
    "                    Rambience VARCHAR(255), \n",
    "                    franchise VARCHAR(255),\n",
    "                    area VARCHAR(255), \n",
    "                    other_services VARCHAR(255),\n",
    "                    PRIMARY KEY (placeID)\n",
    "                    );\"\"\"\n",
    "\n",
    "query_payments = \"\"\"CREATE TABLE IF NOT EXISTS payments (\n",
    "                    placeID INT UNSIGNED NOT NULL,\n",
    "                    Rpayment VARCHAR(255),\n",
    "                    FOREIGN KEY (placeID) REFERENCES geoplaces (placeID)\n",
    "                    );\"\"\"\n",
    "\n",
    "query_cocina = \"\"\"CREATE TABLE IF NOT EXISTS cocina (\n",
    "                    placeID INT UNSIGNED NOT NULL,\n",
    "                    Rcuisine VARCHAR(255),\n",
    "                    FOREIGN KEY (placeID) REFERENCES geoplaces (placeID)\n",
    "                    );\"\"\"\n",
    "\n",
    "query_horario = \"\"\"CREATE TABLE IF NOT EXISTS horario (\n",
    "                    placeID INT UNSIGNED NOT NULL,\n",
    "                    hours VARCHAR(255),\n",
    "                    days VARCHAR(255),\n",
    "                    FOREIGN KEY (placeID) REFERENCES geoplaces (placeID)\n",
    "                    );\"\"\"\n",
    "\n",
    "query_parking = \"\"\"CREATE TABLE IF NOT EXISTS parking (\n",
    "                    placeID INT UNSIGNED NOT NULL,\n",
    "                    parking_lot VARCHAR(255),\n",
    "                    FOREIGN KEY (placeID) REFERENCES geoplaces (placeID)\n",
    "                    );\"\"\"\n",
    "\n",
    "query_rating = \"\"\"CREATE TABLE IF NOT EXISTS rating (\n",
    "                    placeID INT UNSIGNED NOT NULL,\n",
    "                    rating INT UNSIGNED NOT NULL,\n",
    "                    food_rating INT UNSIGNED NOT NULL,\n",
    "                    service_rating INT UNSIGNED NOT NULL,\n",
    "                    FOREIGN KEY (placeID) REFERENCES geoplaces (placeID)\n",
    "                    );\"\"\""
   ]
  },
  {
   "cell_type": "markdown",
   "metadata": {},
   "source": [
    "### CREACIÓN TABLAS"
   ]
  },
  {
   "cell_type": "code",
   "execution_count": 11,
   "metadata": {},
   "outputs": [],
   "source": [
    "crear_tablas(query_geoplaces, \"recomendador\")\n",
    "crear_tablas(query_payments, \"recomendador\")\n",
    "crear_tablas(query_cocina, \"recomendador\")\n",
    "crear_tablas(query_horario, \"recomendador\")\n",
    "crear_tablas(query_parking, \"recomendador\")\n",
    "crear_tablas(query_rating, \"recomendador\")"
   ]
  },
  {
   "cell_type": "markdown",
   "metadata": {},
   "source": [
    "### INSERCCIÓN DATOS"
   ]
  },
  {
   "cell_type": "code",
   "execution_count": 14,
   "metadata": {},
   "outputs": [],
   "source": [
    "insertar_datos_porfila(df_geoplaces, \"recomendador\", \"geoplaces\")\n",
    "insertar_datos_porfila(df_accepts, \"recomendador\", \"payments\")\n",
    "insertar_datos_porfila(df_cousine, \"recomendador\", \"cocina\")\n",
    "insertar_datos_porfila(df_houors4, \"recomendador\", \"horario\")\n",
    "insertar_datos_porfila(df_parking, \"recomendador\", \"parking\")\n",
    "insertar_datos_porfila(df_ratin_final, \"recomendador\", \"rating\")"
   ]
  },
  {
   "cell_type": "markdown",
   "metadata": {},
   "source": [
    "### EXTRACCIÓN DATOS"
   ]
  },
  {
   "cell_type": "code",
   "execution_count": 2,
   "metadata": {},
   "outputs": [],
   "source": [
    "query_select = \"\"\"SELECT * FROM geoplaces\n",
    "          JOIN payments ON geoplaces.placeID=payments.placeID\n",
    "          JOIN cocina ON geoplaces.placeID=cocina.placeID\n",
    "          JOIN horario ON geoplaces.placeID=horario.placeID\n",
    "          JOIN parking ON geoplaces.placeID=parking.placeID\n",
    "          JOIN rating ON geoplaces.placeID = rating.placeID\n",
    "          ORDER BY geoplaces.placeID;\n",
    "        \"\"\""
   ]
  },
  {
   "cell_type": "code",
   "execution_count": 7,
   "metadata": {},
   "outputs": [],
   "source": [
    "resultado, columnas = ejecutar_consulta(\"recomendador\", query_select)"
   ]
  },
  {
   "cell_type": "code",
   "execution_count": 8,
   "metadata": {},
   "outputs": [],
   "source": [
    "df = pd.DataFrame(resultado, columns = columnas)"
   ]
  },
  {
   "cell_type": "code",
   "execution_count": 9,
   "metadata": {},
   "outputs": [],
   "source": [
    "# Eliminar columnas duplicadas\n",
    "df = df.loc[:, ~df.columns.duplicated()]"
   ]
  },
  {
   "cell_type": "code",
   "execution_count": 10,
   "metadata": {},
   "outputs": [
    {
     "data": {
      "text/html": [
       "<div>\n",
       "<style scoped>\n",
       "    .dataframe tbody tr th:only-of-type {\n",
       "        vertical-align: middle;\n",
       "    }\n",
       "\n",
       "    .dataframe tbody tr th {\n",
       "        vertical-align: top;\n",
       "    }\n",
       "\n",
       "    .dataframe thead th {\n",
       "        text-align: right;\n",
       "    }\n",
       "</style>\n",
       "<table border=\"1\" class=\"dataframe\">\n",
       "  <thead>\n",
       "    <tr style=\"text-align: right;\">\n",
       "      <th></th>\n",
       "      <th>placeID</th>\n",
       "      <th>latitude</th>\n",
       "      <th>longitude</th>\n",
       "      <th>the_geom_meter</th>\n",
       "      <th>name</th>\n",
       "      <th>address</th>\n",
       "      <th>city</th>\n",
       "      <th>state</th>\n",
       "      <th>country</th>\n",
       "      <th>fax</th>\n",
       "      <th>...</th>\n",
       "      <th>area</th>\n",
       "      <th>other_services</th>\n",
       "      <th>Rpayment</th>\n",
       "      <th>Rcuisine</th>\n",
       "      <th>hours</th>\n",
       "      <th>days</th>\n",
       "      <th>parking_lot</th>\n",
       "      <th>rating</th>\n",
       "      <th>food_rating</th>\n",
       "      <th>service_rating</th>\n",
       "    </tr>\n",
       "  </thead>\n",
       "  <tbody>\n",
       "    <tr>\n",
       "      <th>0</th>\n",
       "      <td>132560</td>\n",
       "      <td>23.7523</td>\n",
       "      <td>-99.1669</td>\n",
       "      <td>0101000020957F0000FC60BDA8E88157C1B2C357D6DA4E...</td>\n",
       "      <td>puesto de gorditas</td>\n",
       "      <td>frente al tecnologico</td>\n",
       "      <td>victoria</td>\n",
       "      <td>tamaulipas</td>\n",
       "      <td>mexico</td>\n",
       "      <td>?</td>\n",
       "      <td>...</td>\n",
       "      <td>open</td>\n",
       "      <td>none</td>\n",
       "      <td>cash</td>\n",
       "      <td>Regional</td>\n",
       "      <td>08:00-12:00;</td>\n",
       "      <td>Mon;Tue;Wed;Thu;Fri;</td>\n",
       "      <td>public</td>\n",
       "      <td>1</td>\n",
       "      <td>0</td>\n",
       "      <td>0</td>\n",
       "    </tr>\n",
       "    <tr>\n",
       "      <th>1</th>\n",
       "      <td>132560</td>\n",
       "      <td>23.7523</td>\n",
       "      <td>-99.1669</td>\n",
       "      <td>0101000020957F0000FC60BDA8E88157C1B2C357D6DA4E...</td>\n",
       "      <td>puesto de gorditas</td>\n",
       "      <td>frente al tecnologico</td>\n",
       "      <td>victoria</td>\n",
       "      <td>tamaulipas</td>\n",
       "      <td>mexico</td>\n",
       "      <td>?</td>\n",
       "      <td>...</td>\n",
       "      <td>open</td>\n",
       "      <td>none</td>\n",
       "      <td>cash</td>\n",
       "      <td>Regional</td>\n",
       "      <td>08:00-12:00;</td>\n",
       "      <td>Mon;Tue;Wed;Thu;Fri;</td>\n",
       "      <td>public</td>\n",
       "      <td>0</td>\n",
       "      <td>0</td>\n",
       "      <td>0</td>\n",
       "    </tr>\n",
       "    <tr>\n",
       "      <th>2</th>\n",
       "      <td>132560</td>\n",
       "      <td>23.7523</td>\n",
       "      <td>-99.1669</td>\n",
       "      <td>0101000020957F0000FC60BDA8E88157C1B2C357D6DA4E...</td>\n",
       "      <td>puesto de gorditas</td>\n",
       "      <td>frente al tecnologico</td>\n",
       "      <td>victoria</td>\n",
       "      <td>tamaulipas</td>\n",
       "      <td>mexico</td>\n",
       "      <td>?</td>\n",
       "      <td>...</td>\n",
       "      <td>open</td>\n",
       "      <td>none</td>\n",
       "      <td>cash</td>\n",
       "      <td>Regional</td>\n",
       "      <td>08:00-12:00;</td>\n",
       "      <td>Mon;Tue;Wed;Thu;Fri;</td>\n",
       "      <td>public</td>\n",
       "      <td>0</td>\n",
       "      <td>2</td>\n",
       "      <td>0</td>\n",
       "    </tr>\n",
       "    <tr>\n",
       "      <th>3</th>\n",
       "      <td>132560</td>\n",
       "      <td>23.7523</td>\n",
       "      <td>-99.1669</td>\n",
       "      <td>0101000020957F0000FC60BDA8E88157C1B2C357D6DA4E...</td>\n",
       "      <td>puesto de gorditas</td>\n",
       "      <td>frente al tecnologico</td>\n",
       "      <td>victoria</td>\n",
       "      <td>tamaulipas</td>\n",
       "      <td>mexico</td>\n",
       "      <td>?</td>\n",
       "      <td>...</td>\n",
       "      <td>open</td>\n",
       "      <td>none</td>\n",
       "      <td>cash</td>\n",
       "      <td>Regional</td>\n",
       "      <td>08:00-12:00;</td>\n",
       "      <td>Mon;Tue;Wed;Thu;Fri;</td>\n",
       "      <td>public</td>\n",
       "      <td>1</td>\n",
       "      <td>2</td>\n",
       "      <td>1</td>\n",
       "    </tr>\n",
       "    <tr>\n",
       "      <th>4</th>\n",
       "      <td>132560</td>\n",
       "      <td>23.7523</td>\n",
       "      <td>-99.1669</td>\n",
       "      <td>0101000020957F0000FC60BDA8E88157C1B2C357D6DA4E...</td>\n",
       "      <td>puesto de gorditas</td>\n",
       "      <td>frente al tecnologico</td>\n",
       "      <td>victoria</td>\n",
       "      <td>tamaulipas</td>\n",
       "      <td>mexico</td>\n",
       "      <td>?</td>\n",
       "      <td>...</td>\n",
       "      <td>open</td>\n",
       "      <td>none</td>\n",
       "      <td>cash</td>\n",
       "      <td>Regional</td>\n",
       "      <td>00:00-00:00;</td>\n",
       "      <td>Sat;</td>\n",
       "      <td>public</td>\n",
       "      <td>1</td>\n",
       "      <td>0</td>\n",
       "      <td>0</td>\n",
       "    </tr>\n",
       "    <tr>\n",
       "      <th>...</th>\n",
       "      <td>...</td>\n",
       "      <td>...</td>\n",
       "      <td>...</td>\n",
       "      <td>...</td>\n",
       "      <td>...</td>\n",
       "      <td>...</td>\n",
       "      <td>...</td>\n",
       "      <td>...</td>\n",
       "      <td>...</td>\n",
       "      <td>...</td>\n",
       "      <td>...</td>\n",
       "      <td>...</td>\n",
       "      <td>...</td>\n",
       "      <td>...</td>\n",
       "      <td>...</td>\n",
       "      <td>...</td>\n",
       "      <td>...</td>\n",
       "      <td>...</td>\n",
       "      <td>...</td>\n",
       "      <td>...</td>\n",
       "      <td>...</td>\n",
       "    </tr>\n",
       "    <tr>\n",
       "      <th>6271</th>\n",
       "      <td>135109</td>\n",
       "      <td>18.9218</td>\n",
       "      <td>-99.2354</td>\n",
       "      <td>0101000020957F0000A6BF695F136F5AC1DADF87B20556...</td>\n",
       "      <td>Paniroles</td>\n",
       "      <td>?</td>\n",
       "      <td>?</td>\n",
       "      <td>?</td>\n",
       "      <td>?</td>\n",
       "      <td>?</td>\n",
       "      <td>...</td>\n",
       "      <td>closed</td>\n",
       "      <td>Internet</td>\n",
       "      <td>cash</td>\n",
       "      <td>Italian</td>\n",
       "      <td>08:00-21:00;</td>\n",
       "      <td>Sat;</td>\n",
       "      <td>none</td>\n",
       "      <td>1</td>\n",
       "      <td>2</td>\n",
       "      <td>1</td>\n",
       "    </tr>\n",
       "    <tr>\n",
       "      <th>6272</th>\n",
       "      <td>135109</td>\n",
       "      <td>18.9218</td>\n",
       "      <td>-99.2354</td>\n",
       "      <td>0101000020957F0000A6BF695F136F5AC1DADF87B20556...</td>\n",
       "      <td>Paniroles</td>\n",
       "      <td>?</td>\n",
       "      <td>?</td>\n",
       "      <td>?</td>\n",
       "      <td>?</td>\n",
       "      <td>?</td>\n",
       "      <td>...</td>\n",
       "      <td>closed</td>\n",
       "      <td>Internet</td>\n",
       "      <td>cash</td>\n",
       "      <td>Italian</td>\n",
       "      <td>08:00-21:00;</td>\n",
       "      <td>Sun;</td>\n",
       "      <td>none</td>\n",
       "      <td>0</td>\n",
       "      <td>0</td>\n",
       "      <td>0</td>\n",
       "    </tr>\n",
       "    <tr>\n",
       "      <th>6273</th>\n",
       "      <td>135109</td>\n",
       "      <td>18.9218</td>\n",
       "      <td>-99.2354</td>\n",
       "      <td>0101000020957F0000A6BF695F136F5AC1DADF87B20556...</td>\n",
       "      <td>Paniroles</td>\n",
       "      <td>?</td>\n",
       "      <td>?</td>\n",
       "      <td>?</td>\n",
       "      <td>?</td>\n",
       "      <td>?</td>\n",
       "      <td>...</td>\n",
       "      <td>closed</td>\n",
       "      <td>Internet</td>\n",
       "      <td>cash</td>\n",
       "      <td>Italian</td>\n",
       "      <td>08:00-21:00;</td>\n",
       "      <td>Sun;</td>\n",
       "      <td>none</td>\n",
       "      <td>2</td>\n",
       "      <td>2</td>\n",
       "      <td>1</td>\n",
       "    </tr>\n",
       "    <tr>\n",
       "      <th>6274</th>\n",
       "      <td>135109</td>\n",
       "      <td>18.9218</td>\n",
       "      <td>-99.2354</td>\n",
       "      <td>0101000020957F0000A6BF695F136F5AC1DADF87B20556...</td>\n",
       "      <td>Paniroles</td>\n",
       "      <td>?</td>\n",
       "      <td>?</td>\n",
       "      <td>?</td>\n",
       "      <td>?</td>\n",
       "      <td>?</td>\n",
       "      <td>...</td>\n",
       "      <td>closed</td>\n",
       "      <td>Internet</td>\n",
       "      <td>cash</td>\n",
       "      <td>Italian</td>\n",
       "      <td>08:00-21:00;</td>\n",
       "      <td>Sun;</td>\n",
       "      <td>none</td>\n",
       "      <td>1</td>\n",
       "      <td>1</td>\n",
       "      <td>1</td>\n",
       "    </tr>\n",
       "    <tr>\n",
       "      <th>6275</th>\n",
       "      <td>135109</td>\n",
       "      <td>18.9218</td>\n",
       "      <td>-99.2354</td>\n",
       "      <td>0101000020957F0000A6BF695F136F5AC1DADF87B20556...</td>\n",
       "      <td>Paniroles</td>\n",
       "      <td>?</td>\n",
       "      <td>?</td>\n",
       "      <td>?</td>\n",
       "      <td>?</td>\n",
       "      <td>?</td>\n",
       "      <td>...</td>\n",
       "      <td>closed</td>\n",
       "      <td>Internet</td>\n",
       "      <td>cash</td>\n",
       "      <td>Italian</td>\n",
       "      <td>08:00-21:00;</td>\n",
       "      <td>Sun;</td>\n",
       "      <td>none</td>\n",
       "      <td>1</td>\n",
       "      <td>2</td>\n",
       "      <td>1</td>\n",
       "    </tr>\n",
       "  </tbody>\n",
       "</table>\n",
       "<p>6276 rows × 29 columns</p>\n",
       "</div>"
      ],
      "text/plain": [
       "      placeID  latitude  longitude  \\\n",
       "0      132560   23.7523   -99.1669   \n",
       "1      132560   23.7523   -99.1669   \n",
       "2      132560   23.7523   -99.1669   \n",
       "3      132560   23.7523   -99.1669   \n",
       "4      132560   23.7523   -99.1669   \n",
       "...       ...       ...        ...   \n",
       "6271   135109   18.9218   -99.2354   \n",
       "6272   135109   18.9218   -99.2354   \n",
       "6273   135109   18.9218   -99.2354   \n",
       "6274   135109   18.9218   -99.2354   \n",
       "6275   135109   18.9218   -99.2354   \n",
       "\n",
       "                                         the_geom_meter                name  \\\n",
       "0     0101000020957F0000FC60BDA8E88157C1B2C357D6DA4E...  puesto de gorditas   \n",
       "1     0101000020957F0000FC60BDA8E88157C1B2C357D6DA4E...  puesto de gorditas   \n",
       "2     0101000020957F0000FC60BDA8E88157C1B2C357D6DA4E...  puesto de gorditas   \n",
       "3     0101000020957F0000FC60BDA8E88157C1B2C357D6DA4E...  puesto de gorditas   \n",
       "4     0101000020957F0000FC60BDA8E88157C1B2C357D6DA4E...  puesto de gorditas   \n",
       "...                                                 ...                 ...   \n",
       "6271  0101000020957F0000A6BF695F136F5AC1DADF87B20556...           Paniroles   \n",
       "6272  0101000020957F0000A6BF695F136F5AC1DADF87B20556...           Paniroles   \n",
       "6273  0101000020957F0000A6BF695F136F5AC1DADF87B20556...           Paniroles   \n",
       "6274  0101000020957F0000A6BF695F136F5AC1DADF87B20556...           Paniroles   \n",
       "6275  0101000020957F0000A6BF695F136F5AC1DADF87B20556...           Paniroles   \n",
       "\n",
       "                    address      city       state country fax  ...    area  \\\n",
       "0     frente al tecnologico  victoria  tamaulipas  mexico   ?  ...    open   \n",
       "1     frente al tecnologico  victoria  tamaulipas  mexico   ?  ...    open   \n",
       "2     frente al tecnologico  victoria  tamaulipas  mexico   ?  ...    open   \n",
       "3     frente al tecnologico  victoria  tamaulipas  mexico   ?  ...    open   \n",
       "4     frente al tecnologico  victoria  tamaulipas  mexico   ?  ...    open   \n",
       "...                     ...       ...         ...     ...  ..  ...     ...   \n",
       "6271                      ?         ?           ?       ?   ?  ...  closed   \n",
       "6272                      ?         ?           ?       ?   ?  ...  closed   \n",
       "6273                      ?         ?           ?       ?   ?  ...  closed   \n",
       "6274                      ?         ?           ?       ?   ?  ...  closed   \n",
       "6275                      ?         ?           ?       ?   ?  ...  closed   \n",
       "\n",
       "     other_services Rpayment  Rcuisine         hours                  days  \\\n",
       "0              none     cash  Regional  08:00-12:00;  Mon;Tue;Wed;Thu;Fri;   \n",
       "1              none     cash  Regional  08:00-12:00;  Mon;Tue;Wed;Thu;Fri;   \n",
       "2              none     cash  Regional  08:00-12:00;  Mon;Tue;Wed;Thu;Fri;   \n",
       "3              none     cash  Regional  08:00-12:00;  Mon;Tue;Wed;Thu;Fri;   \n",
       "4              none     cash  Regional  00:00-00:00;                  Sat;   \n",
       "...             ...      ...       ...           ...                   ...   \n",
       "6271       Internet     cash   Italian  08:00-21:00;                  Sat;   \n",
       "6272       Internet     cash   Italian  08:00-21:00;                  Sun;   \n",
       "6273       Internet     cash   Italian  08:00-21:00;                  Sun;   \n",
       "6274       Internet     cash   Italian  08:00-21:00;                  Sun;   \n",
       "6275       Internet     cash   Italian  08:00-21:00;                  Sun;   \n",
       "\n",
       "     parking_lot rating food_rating service_rating  \n",
       "0         public      1           0              0  \n",
       "1         public      0           0              0  \n",
       "2         public      0           2              0  \n",
       "3         public      1           2              1  \n",
       "4         public      1           0              0  \n",
       "...          ...    ...         ...            ...  \n",
       "6271        none      1           2              1  \n",
       "6272        none      0           0              0  \n",
       "6273        none      2           2              1  \n",
       "6274        none      1           1              1  \n",
       "6275        none      1           2              1  \n",
       "\n",
       "[6276 rows x 29 columns]"
      ]
     },
     "execution_count": 10,
     "metadata": {},
     "output_type": "execute_result"
    }
   ],
   "source": [
    "df"
   ]
  },
  {
   "cell_type": "markdown",
   "metadata": {},
   "source": [
    "### PROCESAMIENTO"
   ]
  },
  {
   "cell_type": "code",
   "execution_count": 11,
   "metadata": {},
   "outputs": [
    {
     "name": "stdout",
     "output_type": "stream",
     "text": [
      "5068\n"
     ]
    }
   ],
   "source": [
    "# Crear columnas para cada día y rellenarlas con los horarios correspondientes\n",
    "\n",
    "df['Entre Semana'] = df.apply(lambda row: row['hours'] if row['days'] == 'Mon;Tue;Wed;Thu;Fri;' else None, axis=1)\n",
    "df['Sabado'] = df.apply(lambda row: row['hours'] if row['days'] == 'Sat;' else None, axis=1)\n",
    "df['Domingo'] = df.apply(lambda row: row['hours'] if row['days'] == 'Sun;' else None, axis=1)\n",
    "\n",
    "df = df.drop(['hours', 'days'], axis=1)\n",
    "\n",
    "# Haciendo dummies manual a la vez que pivotear para tener los datos en una sola fila\n",
    "for restaurante in df[\"name\"].unique():\n",
    "\n",
    "    df.loc[df[\"name\"] == restaurante, \"Entre Semana\"] = df.loc[df[\"name\"] == restaurante, \"Entre Semana\"].dropna().values[0]\n",
    "    df.loc[df[\"name\"] == restaurante, \"Sabado\"] = df.loc[df[\"name\"] == restaurante, \"Sabado\"].dropna().values[0]\n",
    "    df.loc[df[\"name\"] == restaurante, \"Domingo\"] = df.loc[df[\"name\"] == restaurante, \"Domingo\"].dropna().values[0]\n",
    "\n",
    "print(df.duplicated().sum())\n",
    "\n",
    "df.drop_duplicates(inplace=True)\n"
   ]
  },
  {
   "cell_type": "code",
   "execution_count": 12,
   "metadata": {},
   "outputs": [
    {
     "name": "stdout",
     "output_type": "stream",
     "text": [
      "993\n"
     ]
    }
   ],
   "source": [
    "# Procesando ratings\n",
    "\n",
    "for restaurante in df[\"name\"].unique():\n",
    "    numerador = (df[df[\"name\"] == restaurante][\"rating\"].sum())\n",
    "    denominador = (df[df[\"name\"] == restaurante].shape[0])\n",
    "    \n",
    "    # Calcular el rating_ana y asignar los valores a las filas correspondientes\n",
    "    df.loc[df[\"name\"] == restaurante, \"rating\"] = numerador / denominador\n",
    "\n",
    "for restaurante in df[\"name\"].unique():\n",
    "    numerador = (df[df[\"name\"] == restaurante][\"food_rating\"].sum())\n",
    "    denominador = (df[df[\"name\"] == restaurante].shape[0])\n",
    "    \n",
    "    # Calcular el rating_ana y asignar los valores a las filas correspondientes\n",
    "    df.loc[df[\"name\"] == restaurante, \"food_rating\"] = numerador / denominador\n",
    "\n",
    "for restaurante in df[\"name\"].unique():\n",
    "    numerador = (df[df[\"name\"] == restaurante][\"service_rating\"].sum())\n",
    "    denominador = (df[df[\"name\"] == restaurante].shape[0])\n",
    "    \n",
    "    # Calcular el rating_ana y asignar los valores a las filas correspondientes\n",
    "    df.loc[df[\"name\"] == restaurante, \"service_rating\"] = numerador / denominador\n",
    "\n",
    "print(df.duplicated().sum())\n",
    "\n",
    "df.drop_duplicates(inplace=True)"
   ]
  },
  {
   "cell_type": "code",
   "execution_count": 13,
   "metadata": {},
   "outputs": [
    {
     "data": {
      "text/plain": [
       "name\n",
       "La Fontana Pizza Restaurante and Cafe    12\n",
       "Restaurante la Cantina                    8\n",
       "Cafeteria y Restaurant El Pacifico        6\n",
       "Mcdonalds Parque Tangamanga               6\n",
       "Restaurante Bar El Gallinero              6\n",
       "                                         ..\n",
       "cafe punta del cielo                      1\n",
       "el pueblito                               1\n",
       "rockabilly                                1\n",
       "VIPS                                      1\n",
       "Paniroles                                 1\n",
       "Name: count, Length: 84, dtype: int64"
      ]
     },
     "execution_count": 13,
     "metadata": {},
     "output_type": "execute_result"
    }
   ],
   "source": [
    "df[\"name\"].value_counts()"
   ]
  },
  {
   "cell_type": "code",
   "execution_count": 14,
   "metadata": {},
   "outputs": [
    {
     "name": "stdout",
     "output_type": "stream",
     "text": [
      "116\n"
     ]
    }
   ],
   "source": [
    "# Dummies para tipo de cocina\n",
    "df_pagos = pd.get_dummies(df['Rpayment'])\n",
    "\n",
    "df = pd.concat([df, df_pagos], axis=1)\n",
    "\n",
    "# Pivotando\n",
    "for categoria in df[\"Rpayment\"].unique():\n",
    "    for restaurante in df[\"name\"].unique():\n",
    "        if df.loc[df[\"name\"] == restaurante, categoria].nunique() == 2:\n",
    "            df.loc[df[\"name\"] == restaurante, categoria] = 1\n",
    "        else:\n",
    "            df.loc[df[\"name\"] == restaurante, categoria] = 0\n",
    "\n",
    "df.drop(\"Rpayment\", axis=1, inplace=True)\n",
    "\n",
    "print(df.duplicated().sum())\n",
    "\n",
    "df.drop_duplicates(inplace=True)"
   ]
  },
  {
   "cell_type": "code",
   "execution_count": 15,
   "metadata": {},
   "outputs": [
    {
     "data": {
      "text/plain": [
       "name\n",
       "La Fontana Pizza Restaurante and Cafe    3\n",
       "Restaurante Bar El Gallinero             2\n",
       "Preambulo Wifi Zone Cafe                 2\n",
       "Cafeteria y Restaurant El Pacifico       2\n",
       "Luna Cafe                                2\n",
       "                                        ..\n",
       "Hamburguesas Valle Dorado                1\n",
       "Unicols Pizza                            1\n",
       "Sirlone                                  1\n",
       "el lechon potosino                       1\n",
       "Paniroles                                1\n",
       "Name: count, Length: 84, dtype: int64"
      ]
     },
     "execution_count": 15,
     "metadata": {},
     "output_type": "execute_result"
    }
   ],
   "source": [
    "df[\"name\"].value_counts()"
   ]
  },
  {
   "cell_type": "code",
   "execution_count": 16,
   "metadata": {},
   "outputs": [
    {
     "name": "stdout",
     "output_type": "stream",
     "text": [
      "14\n"
     ]
    }
   ],
   "source": [
    "# Dummies para tipo de cocina\n",
    "df_cocina = pd.get_dummies(df['Rcuisine'])\n",
    "\n",
    "df = pd.concat([df, df_cocina], axis=1)\n",
    "\n",
    "# Pivotando\n",
    "for categoria in df[\"Rcuisine\"].unique():\n",
    "    for restaurante in df[\"name\"].unique():\n",
    "        if df.loc[df[\"name\"] == restaurante, categoria].nunique() == 2:\n",
    "            df.loc[df[\"name\"] == restaurante, categoria] = 1\n",
    "        else:\n",
    "            df.loc[df[\"name\"] == restaurante, categoria] = 0\n",
    "\n",
    "df.drop(\"Rcuisine\", axis=1, inplace=True)\n",
    "\n",
    "print(df.duplicated().sum())\n",
    "\n",
    "df.drop_duplicates(inplace=True)"
   ]
  },
  {
   "cell_type": "code",
   "execution_count": 17,
   "metadata": {},
   "outputs": [],
   "source": [
    "# Seleccionar las filas para el restaurante específico\n",
    "restaurante_seleccionado = \"Gorditas Dona Tota\"\n",
    "df_restaurante = df[df[\"name\"] == restaurante_seleccionado]\n",
    "\n",
    "# Encontrar las columnas con más de un valor único\n",
    "columnas_con_diferencias = df_restaurante.columns[df_restaurante.nunique() > 1]"
   ]
  },
  {
   "cell_type": "code",
   "execution_count": 18,
   "metadata": {},
   "outputs": [
    {
     "name": "stdout",
     "output_type": "stream",
     "text": [
      "Columna: placeID, Valores únicos: [132584 132706]\n",
      "Columna: latitude, Valores únicos: [23.7524 23.7292]\n",
      "Columna: longitude, Valores únicos: [-99.1653 -99.1324]\n",
      "Columna: the_geom_meter, Valores únicos: ['0101000020957F000048C65BA7EF8157C177F2344D664E4941'\n",
      " '0101000020957F00000F14BF6B2C8657C1963CCB8E5C464941']\n",
      "Columna: address, Valores únicos: ['?' 'Zaragoza entre Francisco Zarco y Lopez Velarde']\n",
      "Columna: city, Valores únicos: ['?' 'Cd. Victoria']\n",
      "Columna: state, Valores únicos: ['?' 'Tamaulipas']\n",
      "Columna: country, Valores únicos: ['?' 'Mexico']\n",
      "Columna: accessibility, Valores únicos: ['completely' 'no_accessibility']\n",
      "Columna: parking_lot, Valores únicos: ['yes' 'public']\n"
     ]
    }
   ],
   "source": [
    "# Mostrar los valores únicos para las columnas con diferencias\n",
    "for columna in columnas_con_diferencias:\n",
    "    valores_unicos = df_restaurante[columna].unique()\n",
    "    print(f'Columna: {columna}, Valores únicos: {valores_unicos}')"
   ]
  },
  {
   "cell_type": "code",
   "execution_count": 19,
   "metadata": {},
   "outputs": [
    {
     "data": {
      "text/plain": [
       "name\n",
       "Gorditas Dona Tota            2\n",
       "puesto de gorditas            1\n",
       "Michiko Restaurant Japones    1\n",
       "Restaurante Bar Fu-hao        1\n",
       "Restaurante El Reyecito       1\n",
       "                             ..\n",
       "Unicols Pizza                 1\n",
       "Sirlone                       1\n",
       "KFC                           1\n",
       "el lechon potosino            1\n",
       "Paniroles                     1\n",
       "Name: count, Length: 84, dtype: int64"
      ]
     },
     "execution_count": 19,
     "metadata": {},
     "output_type": "execute_result"
    }
   ],
   "source": [
    "df[\"name\"].value_counts()"
   ]
  },
  {
   "cell_type": "code",
   "execution_count": 20,
   "metadata": {},
   "outputs": [],
   "source": [
    "# Filtrando por interés\n",
    "df = df[df[\"name\"] != \"Gorditas Dona Tota\"]"
   ]
  },
  {
   "cell_type": "code",
   "execution_count": 21,
   "metadata": {},
   "outputs": [],
   "source": [
    "df.reset_index(drop=True, inplace=True)"
   ]
  },
  {
   "cell_type": "code",
   "execution_count": 22,
   "metadata": {},
   "outputs": [],
   "source": [
    "df.drop(['placeID', 'latitude', 'longitude', 'the_geom_meter', 'address', 'city', 'state', 'country', 'fax', 'zip', 'franchise', 'url', 'other_services'], axis=1, inplace=True)"
   ]
  },
  {
   "cell_type": "code",
   "execution_count": 152,
   "metadata": {},
   "outputs": [],
   "source": [
    "df.to_csv(\"Data/Restaurantes_mexico.csv\")"
   ]
  },
  {
   "cell_type": "markdown",
   "metadata": {},
   "source": [
    "# RECOMENDADOR"
   ]
  },
  {
   "cell_type": "code",
   "execution_count": 23,
   "metadata": {},
   "outputs": [],
   "source": [
    "# Aplicar one-hot encoding a varias columnas\n",
    "columnas_a_codificar = ['alcohol', 'smoking_area', 'dress_code', 'accessibility', 'price', 'Rambience', 'area', 'parking_lot']\n",
    "\n",
    "df_dummies = pd.get_dummies(df, columns=columnas_a_codificar)\n",
    "\n",
    "df_dummies.drop([\"smoking_area_none\", \"rating\",\t\"food_rating\",\t\"service_rating\",\t\"Entre Semana\",\t\"Sabado\",\"Domingo\"], axis=1, inplace=True)"
   ]
  },
  {
   "cell_type": "code",
   "execution_count": 24,
   "metadata": {},
   "outputs": [],
   "source": [
    "# Identificar columnas con tipo de dato booleano\n",
    "columnas_booleanas = df_dummies.select_dtypes(include='bool').columns\n",
    "\n",
    "# Cambiar el tipo de dato de booleano a entero solo para las columnas booleanas\n",
    "df_dummies[columnas_booleanas] = df_dummies[columnas_booleanas].astype(int)"
   ]
  },
  {
   "cell_type": "markdown",
   "metadata": {},
   "source": [
    "### RESTAURANTES QUE PUEDE PUNTUAR EL USUARIO"
   ]
  },
  {
   "cell_type": "code",
   "execution_count": 25,
   "metadata": {},
   "outputs": [
    {
     "data": {
      "text/plain": [
       "['puesto de gorditas',\n",
       " 'Cafe Chaires',\n",
       " 'tacos de barbacoa enfrente del Tec',\n",
       " 'Hamburguesas La perica',\n",
       " 'Pollo_Frito_Buenos_Aires',\n",
       " 'carnitas_mata',\n",
       " 'la perica hamburguesa',\n",
       " 'little pizza Emilio Portes Gil',\n",
       " 'tacos de la estacion',\n",
       " 'tortas hawai',\n",
       " 'Gordas de morales',\n",
       " 'Taqueria EL amigo ',\n",
       " 'Little Cesarz',\n",
       " 'Carreton de Flautas y Migadas',\n",
       " 'Cabana Huasteca',\n",
       " 'La Estrella de Dimas',\n",
       " 'Mikasa',\n",
       " 'Restaurant Familiar El Chino',\n",
       " 'Mariscos Tia Licha',\n",
       " 'El cotorreo',\n",
       " 'puesto de tacos',\n",
       " 'Gorditas Doa Gloria',\n",
       " 'Cenaduria El Rincón de Tlaquepaque',\n",
       " 'el lechon potosino ',\n",
       " 'KFC',\n",
       " 'Sirlone',\n",
       " 'Unicols Pizza',\n",
       " 'Hamburguesas Valle Dorado',\n",
       " 'Carls Jr',\n",
       " 'La Posada del Virrey',\n",
       " 'Chaires',\n",
       " 'Dominos Pizza',\n",
       " 'Tortas y hamburguesas el gordo',\n",
       " 'Pizzeria Julios',\n",
       " 'shi ro ie',\n",
       " 'Hamburguesas saul',\n",
       " 'crudalia',\n",
       " 'cafe punta del cielo',\n",
       " 'el pueblito',\n",
       " 'rockabilly ',\n",
       " 'VIPS',\n",
       " 'la parroquia',\n",
       " 'emilianos',\n",
       " 'tacos los volcanes',\n",
       " 'Restaurant and Bar and Clothesline Carlos N Charlies',\n",
       " 'El Oceano Dorado',\n",
       " 'Subway',\n",
       " 'El Rincon de San Francisco',\n",
       " 'Restaurant Orizatlan',\n",
       " 'La Virreina',\n",
       " 'Preambulo Wifi Zone Cafe',\n",
       " 'Cafeteria y Restaurant El Pacifico',\n",
       " 'Michiko Restaurant Japones',\n",
       " 'El Mundo de la Pasta',\n",
       " 'Restaurant de Mariscos de Picon',\n",
       " 'Luna Cafe',\n",
       " 'Restaurant Oriental Express',\n",
       " 'pizza clasica',\n",
       " 'Restaurant Wu Zhuo Yi',\n",
       " 'Restaurante El Reyecito',\n",
       " 'Restaurante Bar Fu-hao',\n",
       " 'Restaurante de Mariscos la Langosta',\n",
       " 'La Cantina Restaurante',\n",
       " 'La Fontana Pizza Restaurante and Cafe',\n",
       " 'Restaurante y Pescaderia Tampico',\n",
       " 'la Cochinita Pibil Restaurante Yucateco',\n",
       " 'El Herradero Restaurante and Bar',\n",
       " 'Restaurante Tiberius',\n",
       " 'Restaurant Bar Hacienda los Martinez',\n",
       " 'Restaurante Marisco Sam',\n",
       " 'Abondance Restaurante Bar',\n",
       " 'Restaurante la Cantina',\n",
       " 'Sushi Itto',\n",
       " 'Restaurante Bar El Gallinero',\n",
       " 'Restaurante la Parroquia Potosina',\n",
       " 'Mariscos El Pescador',\n",
       " 'Koye Sushi',\n",
       " 'Tortas Locas Hipocampo',\n",
       " 'Mcdonalds Parque Tangamanga',\n",
       " 'Cafeteria cenidet',\n",
       " 'vips',\n",
       " 'El Rinc�n de San Francisco',\n",
       " 'Paniroles']"
      ]
     },
     "execution_count": 25,
     "metadata": {},
     "output_type": "execute_result"
    }
   ],
   "source": [
    "df_dummies.name.to_list()"
   ]
  },
  {
   "cell_type": "markdown",
   "metadata": {},
   "source": [
    "### VALORACIÓN DEL USUARIO"
   ]
  },
  {
   "cell_type": "code",
   "execution_count": 26,
   "metadata": {},
   "outputs": [],
   "source": [
    "datos = [\n",
    "            ['Mcdonalds Parque Tangamanga', 6],\n",
    "            ['Cafeteria cenidet', 3],\n",
    "            ['vips', 9],\n",
    "            ['El Rinc�n de San Francisco', 4],\n",
    "            ['Paniroles', 6]\n",
    "        ]\n",
    "\n",
    "df_usuario = pd.DataFrame(data = datos, columns = [\"name\", \"Puntuacion\"])"
   ]
  },
  {
   "cell_type": "markdown",
   "metadata": {},
   "source": [
    "### ALGORITMO RECOMENDADOR"
   ]
  },
  {
   "cell_type": "code",
   "execution_count": 27,
   "metadata": {},
   "outputs": [],
   "source": [
    "# Concatenar los DataFrames basándose en la columna común\n",
    "df_usuario = pd.merge(df_dummies, df_usuario, on='name', how='left')"
   ]
  },
  {
   "cell_type": "code",
   "execution_count": 28,
   "metadata": {},
   "outputs": [],
   "source": [
    "df_pesos = df_usuario[df_usuario[\"Puntuacion\"] >0].copy()"
   ]
  },
  {
   "cell_type": "code",
   "execution_count": 29,
   "metadata": {},
   "outputs": [],
   "source": [
    "# Asignandole valor a las caracteristicas de cada restaurante segun la puntuacion que dió el usuario\n",
    "for columna in df_pesos.columns:\n",
    "    if columna != \"name\" and columna != \"Puntuacion\":\n",
    "        df_pesos[columna] = df_pesos[columna]*df_pesos[\"Puntuacion\"]"
   ]
  },
  {
   "cell_type": "code",
   "execution_count": 30,
   "metadata": {},
   "outputs": [],
   "source": [
    "# Calculando el peso de cada característica\n",
    "usuario_pesos = df_pesos.drop([\"name\", \"Puntuacion\"], axis=1).sum()\n",
    "\n",
    "usuario_pesos = usuario_pesos/usuario_pesos.sum()"
   ]
  },
  {
   "cell_type": "code",
   "execution_count": 31,
   "metadata": {},
   "outputs": [],
   "source": [
    "# Creando df de restaurantes que no visitó el usuario\n",
    "df_restaurantes = df_usuario[~(df_usuario[\"Puntuacion\"] > 0)].copy()"
   ]
  },
  {
   "cell_type": "code",
   "execution_count": 32,
   "metadata": {},
   "outputs": [],
   "source": [
    "# Asignandole el peso correspondientes a cada característica según el usuario de los demás restaurantes\n",
    "weighted_movies_matrix = list()\n",
    "\n",
    "for punto, restaurant in zip(usuario_pesos.values, df_restaurantes.iloc[:, 1:-1].values):\n",
    "    weighted_movies_matrix.append(punto*restaurant)\n",
    "\n",
    "weighted_movies_matrix = pd.DataFrame(data = weighted_movies_matrix, columns = df_restaurantes.drop([\"name\", \"Puntuacion\"], axis=1).columns)"
   ]
  },
  {
   "cell_type": "code",
   "execution_count": 33,
   "metadata": {},
   "outputs": [],
   "source": [
    "# Creando df de donde saldrá las recomendaciones\n",
    "df_recomendador = pd.concat([df_restaurantes, weighted_movies_matrix.sum(axis = 1)], axis = 1)\n",
    "\n",
    "df_recomendador.rename(columns= {0 : \"Recomendacion\"}, inplace=True)\n",
    "# Ordenando los restaurantes de mayor peso a menor\n",
    "df_recomendador.sort_values(\"Recomendacion\", ascending = False, inplace=True)"
   ]
  },
  {
   "cell_type": "code",
   "execution_count": 34,
   "metadata": {},
   "outputs": [],
   "source": [
    "# Filtrado de recomendaciones para el usuario\n",
    "resultado = df_recomendador[df_recomendador[\"Recomendacion\"] > 0][\"name\"].to_list()"
   ]
  },
  {
   "cell_type": "code",
   "execution_count": 35,
   "metadata": {},
   "outputs": [
    {
     "data": {
      "text/plain": [
       "['tacos los volcanes',\n",
       " 'Restaurant and Bar and Clothesline Carlos N Charlies',\n",
       " 'cafe punta del cielo',\n",
       " 'Cafeteria y Restaurant El Pacifico',\n",
       " 'Dominos Pizza',\n",
       " 'Subway',\n",
       " 'tacos de barbacoa enfrente del Tec',\n",
       " 'Hamburguesas La perica',\n",
       " 'carnitas_mata',\n",
       " 'rockabilly ',\n",
       " 'Carls Jr',\n",
       " 'Restaurant Orizatlan',\n",
       " 'El Oceano Dorado',\n",
       " 'La Posada del Virrey',\n",
       " 'Chaires',\n",
       " 'el pueblito',\n",
       " 'Little Cesarz',\n",
       " 'Mariscos Tia Licha',\n",
       " 'El Rincon de San Francisco',\n",
       " 'emilianos',\n",
       " 'La Virreina',\n",
       " 'VIPS',\n",
       " 'Tortas y hamburguesas el gordo']"
      ]
     },
     "execution_count": 35,
     "metadata": {},
     "output_type": "execute_result"
    }
   ],
   "source": [
    "# De mejor recomendación a peor:\n",
    "resultado"
   ]
  }
 ],
 "metadata": {
  "kernelspec": {
   "display_name": "Python 3 (ipykernel)",
   "language": "python",
   "name": "python3"
  },
  "language_info": {
   "codemirror_mode": {
    "name": "ipython",
    "version": 3
   },
   "file_extension": ".py",
   "mimetype": "text/x-python",
   "name": "python",
   "nbconvert_exporter": "python",
   "pygments_lexer": "ipython3",
   "version": "3.11.4"
  }
 },
 "nbformat": 4,
 "nbformat_minor": 4
}
