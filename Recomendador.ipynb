{
 "cells": [
  {
   "cell_type": "markdown",
   "metadata": {},
   "source": [
    "### LIBRERÍAS"
   ]
  },
  {
   "cell_type": "code",
   "execution_count": 1,
   "metadata": {},
   "outputs": [],
   "source": [
    "import pandas as pd\n",
    "import mysql.connector"
   ]
  },
  {
   "cell_type": "markdown",
   "metadata": {},
   "source": [
    "### PROCESAMIENTO"
   ]
  },
  {
   "cell_type": "code",
   "execution_count": 4,
   "metadata": {},
   "outputs": [],
   "source": [
    "df_ratin_final = pd.read_csv(\"../proyecto2/Data/rating_final.csv\")\n",
    "df_accepts = pd.read_csv(\"../proyecto2/Data/chefmozaccepts.csv\")\n",
    "df_cousine = pd.read_csv(\"../proyecto2/Data/chefmozcuisine.csv\")\n",
    "df_houors4 = pd.read_csv(\"../proyecto2/Data/chefmozhours4.csv\")\n",
    "df_geoplaces = pd.read_csv(\"../proyecto2/Data/geoplaces2.csv\")\n",
    "df_parking = pd.read_csv(\"../proyecto2/Data/chefmozparking.csv\")"
   ]
  },
  {
   "cell_type": "code",
   "execution_count": null,
   "metadata": {},
   "outputs": [],
   "source": [
    "lista_id = df_geoplaces[\"placeID\"].unique()\n",
    "\n",
    "df_accepts = df_accepts[df_accepts['placeID'].isin(lista_id)]\n",
    "df_ratin_final = df_ratin_final[df_ratin_final['placeID'].isin(lista_id)]\n",
    "df_cousine = df_cousine[df_cousine['placeID'].isin(lista_id)]\n",
    "df_houors4 = df_houors4[df_houors4['placeID'].isin(lista_id)]\n",
    "df_parking = df_parking[df_parking['placeID'].isin(lista_id)]\n",
    "\n",
    "df_ratin_final.drop(\"userID\", axis=1, inplace=True)"
   ]
  },
  {
   "cell_type": "markdown",
   "metadata": {},
   "source": [
    "### FUNCIONES SQL (faltaría la contraseña de cada uno)"
   ]
  },
  {
   "cell_type": "code",
   "execution_count": 2,
   "metadata": {},
   "outputs": [],
   "source": [
    "# ESTABLECER CONEXIÓN CON LA BASE DE DATOS DE MYSQL\n",
    "# PARA GUARDAR LA CONEXIÓN Y EL CURSOR, HAY QUE IGUALAR LA FUNCIÓN A DOS VARIABLES\n",
    "def conexion():\n",
    "    db = mysql.connector.connect(host     = \"localhost\", # donde se aloja la base de datos\n",
    "                             user     = \"root\", # poned vuestro usuario\n",
    "                             password = \"\", # poned vuestra contraseña\n",
    "                             database = None)\n",
    "    cursor = db.cursor()\n",
    "    return db, cursor\n",
    "\n",
    "# CERRAR LA CONEXIÓN\n",
    "def cerrar_conexion(cursor, db):\n",
    "    cursor.fetchall() # se utiliza para recuperar todas las filas del conjunto de resultados después de ejecutar una consulta en una base de datos. Esto es útil cuando deseas trabajar con los resultados de una consulta en tu programa Python\n",
    "    cursor.close()\n",
    "    db.close()\n",
    "\n",
    "# CREAR UNA BASE DE DATOS DANDOLE EL NOMBRE DE LA BASE DE DATOS\n",
    "def crear_database(database):\n",
    "    db, cursor = conexion()\n",
    "    cursor.execute(f\"CREATE DATABASE IF NOT EXISTS {database};\")\n",
    "    cerrar_conexion(cursor, db)\n",
    "\n",
    "# CREAR UNA TABLA EN UNA BASE DE DATOS.\n",
    "# PASANDOLE LA BASE DE DATOS DONDE QUEREMOS CREARLA Y LA QUERY DE LA TABLA QUE QUEREMOS CREAR\n",
    "def crear_tablas(query, database):\n",
    "    db, cursor = conexion()\n",
    "    query_database = f\"USE {database};\"\n",
    "    cursor.execute(query_database)\n",
    "    cursor.execute(query)\n",
    "    cerrar_conexion(cursor, db)\n",
    "\n",
    "# EJECUTAR QUERYS DE CONSULTAS:\n",
    "def ejecutar_consulta(database, query):\n",
    "    db, cursor = conexion()\n",
    "    cursor.execute(f\"USE {database};\")\n",
    "\n",
    "    # Ejecutar la consulta\n",
    "    cursor.execute(query)\n",
    "    columnas = cursor.column_names\n",
    "    # Obtener los resultados, si es una consulta SELECT\n",
    "    resultados = cursor.fetchall()\n",
    "    # Hacer commit para guardar los cambios (en caso de INSERT, UPDATE, DELETE, etc.)\n",
    "    db.commit()\n",
    "    # Cerrar la conexión\n",
    "    cerrar_conexion(cursor, db)\n",
    "    return resultados, columnas\n",
    "\n",
    "def insertar_datos_porfila(df, database, tabla):\n",
    "    db, cursor = conexion()\n",
    "    cursor.execute(f\"USE {database};\")\n",
    "\n",
    "    # Iterar sobre las filas del DataFrame e insertar cada fila en la tabla\n",
    "    for _, fila in df.iterrows(): #Este método de pandas retorna un generador que produce pares (índice, fila) para cada fila del DataFrame df. \n",
    "                                  #el guion bajo _ se utiliza para descartar el índice, ya que no se está utilizando dentro del bucle.\n",
    "                                  #Aquí el isinstance verifica que le valor es un str, sino lo convierte a str ya que la query tiene que ser str\n",
    "        valores = \", \".join([f\"'{valor}'\" if isinstance(valor, str) else str(valor) for valor in fila])\n",
    "        query = f\"INSERT INTO {tabla} VALUES ({valores});\"\n",
    "        cursor.execute(query)\n",
    "\n",
    "    # Hacer commit para guardar los cambios\n",
    "    db.commit()\n",
    "    cerrar_conexion(cursor, db)"
   ]
  },
  {
   "cell_type": "markdown",
   "metadata": {},
   "source": [
    "### CREACIÓN DATABASE"
   ]
  },
  {
   "cell_type": "code",
   "execution_count": 7,
   "metadata": {},
   "outputs": [],
   "source": [
    "crear_database(\"recomendador\")"
   ]
  },
  {
   "cell_type": "markdown",
   "metadata": {},
   "source": [
    "### QUERYS"
   ]
  },
  {
   "cell_type": "code",
   "execution_count": 8,
   "metadata": {},
   "outputs": [],
   "source": [
    "query_geoplaces = \"\"\"CREATE TABLE IF NOT EXISTS geoplaces (\n",
    "                    placeID INT UNSIGNED NOT NULL,\n",
    "                    latitude FLOAT, \n",
    "                    longitude FLOAT, \n",
    "                    the_geom_meter VARCHAR(255), \n",
    "                    name VARCHAR(255), \n",
    "                    address VARCHAR(255),\n",
    "                    city VARCHAR(255), \n",
    "                    state VARCHAR(255), \n",
    "                    country VARCHAR(255), \n",
    "                    fax VARCHAR(255), \n",
    "                    zip VARCHAR(255), \n",
    "                    alcohol VARCHAR(255), \n",
    "                    smoking_area VARCHAR(255),\n",
    "                    dress_code VARCHAR(255), \n",
    "                    accessibility VARCHAR(255), \n",
    "                    price VARCHAR(255), \n",
    "                    url VARCHAR(255), \n",
    "                    Rambience VARCHAR(255), \n",
    "                    franchise VARCHAR(255),\n",
    "                    area VARCHAR(255), \n",
    "                    other_services VARCHAR(255),\n",
    "                    PRIMARY KEY (placeID)\n",
    "                    );\"\"\"\n",
    "\n",
    "query_payments = \"\"\"CREATE TABLE IF NOT EXISTS payments (\n",
    "                    placeID INT UNSIGNED NOT NULL,\n",
    "                    Rpayment VARCHAR(255),\n",
    "                    FOREIGN KEY (placeID) REFERENCES geoplaces (placeID)\n",
    "                    );\"\"\"\n",
    "\n",
    "query_cocina = \"\"\"CREATE TABLE IF NOT EXISTS cocina (\n",
    "                    placeID INT UNSIGNED NOT NULL,\n",
    "                    Rcuisine VARCHAR(255),\n",
    "                    FOREIGN KEY (placeID) REFERENCES geoplaces (placeID)\n",
    "                    );\"\"\"\n",
    "\n",
    "query_horario = \"\"\"CREATE TABLE IF NOT EXISTS horario (\n",
    "                    placeID INT UNSIGNED NOT NULL,\n",
    "                    hours VARCHAR(255),\n",
    "                    days VARCHAR(255),\n",
    "                    FOREIGN KEY (placeID) REFERENCES geoplaces (placeID)\n",
    "                    );\"\"\"\n",
    "\n",
    "query_parking = \"\"\"CREATE TABLE IF NOT EXISTS parking (\n",
    "                    placeID INT UNSIGNED NOT NULL,\n",
    "                    parking_lot VARCHAR(255),\n",
    "                    FOREIGN KEY (placeID) REFERENCES geoplaces (placeID)\n",
    "                    );\"\"\"\n",
    "\n",
    "query_rating = \"\"\"CREATE TABLE IF NOT EXISTS rating (\n",
    "                    placeID INT UNSIGNED NOT NULL,\n",
    "                    rating INT UNSIGNED NOT NULL,\n",
    "                    food_rating INT UNSIGNED NOT NULL,\n",
    "                    service_rating INT UNSIGNED NOT NULL,\n",
    "                    FOREIGN KEY (placeID) REFERENCES geoplaces (placeID)\n",
    "                    );\"\"\""
   ]
  },
  {
   "cell_type": "markdown",
   "metadata": {},
   "source": [
    "### CREACIÓN TABLAS"
   ]
  },
  {
   "cell_type": "code",
   "execution_count": 11,
   "metadata": {},
   "outputs": [],
   "source": [
    "crear_tablas(query_geoplaces, \"recomendador\")\n",
    "crear_tablas(query_payments, \"recomendador\")\n",
    "crear_tablas(query_cocina, \"recomendador\")\n",
    "crear_tablas(query_horario, \"recomendador\")\n",
    "crear_tablas(query_parking, \"recomendador\")\n",
    "crear_tablas(query_rating, \"recomendador\")"
   ]
  },
  {
   "cell_type": "markdown",
   "metadata": {},
   "source": [
    "### INSERCCIÓN DATOS"
   ]
  },
  {
   "cell_type": "code",
   "execution_count": 14,
   "metadata": {},
   "outputs": [],
   "source": [
    "insertar_datos_porfila(df_geoplaces, \"recomendador\", \"geoplaces\")\n",
    "insertar_datos_porfila(df_accepts, \"recomendador\", \"payments\")\n",
    "insertar_datos_porfila(df_cousine, \"recomendador\", \"cocina\")\n",
    "insertar_datos_porfila(df_houors4, \"recomendador\", \"horario\")\n",
    "insertar_datos_porfila(df_parking, \"recomendador\", \"parking\")\n",
    "insertar_datos_porfila(df_ratin_final, \"recomendador\", \"rating\")"
   ]
  },
  {
   "cell_type": "markdown",
   "metadata": {},
   "source": [
    "### EXTRACCIÓN DATOS"
   ]
  },
  {
   "cell_type": "code",
   "execution_count": 3,
   "metadata": {},
   "outputs": [],
   "source": [
    "query_select = \"\"\"SELECT * FROM geoplaces\n",
    "          JOIN payments ON geoplaces.placeID=payments.placeID\n",
    "          JOIN cocina ON geoplaces.placeID=cocina.placeID\n",
    "          JOIN horario ON geoplaces.placeID=horario.placeID\n",
    "          JOIN parking ON geoplaces.placeID=parking.placeID\n",
    "          ORDER BY geoplaces.placeID;\n",
    "        \"\"\""
   ]
  },
  {
   "cell_type": "code",
   "execution_count": 4,
   "metadata": {},
   "outputs": [],
   "source": [
    "resultado, columnas = ejecutar_consulta(\"recomendador\", query_select)"
   ]
  },
  {
   "cell_type": "code",
   "execution_count": 5,
   "metadata": {},
   "outputs": [],
   "source": [
    "df = pd.DataFrame(resultado, columns = columnas)"
   ]
  },
  {
   "cell_type": "code",
   "execution_count": 6,
   "metadata": {},
   "outputs": [],
   "source": [
    "# Eliminar columnas duplicadas\n",
    "df = df.loc[:, ~df.columns.duplicated()]"
   ]
  },
  {
   "cell_type": "code",
   "execution_count": 7,
   "metadata": {},
   "outputs": [],
   "source": [
    "df = df[[\"name\", \"alcohol\", \"dress_code\", \"accessibility\", \"smoking_area\", \"price\", \"Rambience\", 'area', 'other_services', 'Rpayment', 'Rcuisine', 'hours', 'days', 'parking_lot']]"
   ]
  },
  {
   "cell_type": "code",
   "execution_count": 8,
   "metadata": {},
   "outputs": [
    {
     "data": {
      "text/html": [
       "<div>\n",
       "<style scoped>\n",
       "    .dataframe tbody tr th:only-of-type {\n",
       "        vertical-align: middle;\n",
       "    }\n",
       "\n",
       "    .dataframe tbody tr th {\n",
       "        vertical-align: top;\n",
       "    }\n",
       "\n",
       "    .dataframe thead th {\n",
       "        text-align: right;\n",
       "    }\n",
       "</style>\n",
       "<table border=\"1\" class=\"dataframe\">\n",
       "  <thead>\n",
       "    <tr style=\"text-align: right;\">\n",
       "      <th></th>\n",
       "      <th>name</th>\n",
       "      <th>alcohol</th>\n",
       "      <th>dress_code</th>\n",
       "      <th>accessibility</th>\n",
       "      <th>smoking_area</th>\n",
       "      <th>price</th>\n",
       "      <th>Rambience</th>\n",
       "      <th>area</th>\n",
       "      <th>other_services</th>\n",
       "      <th>Rpayment</th>\n",
       "      <th>Rcuisine</th>\n",
       "      <th>hours</th>\n",
       "      <th>days</th>\n",
       "      <th>parking_lot</th>\n",
       "    </tr>\n",
       "  </thead>\n",
       "  <tbody>\n",
       "    <tr>\n",
       "      <th>0</th>\n",
       "      <td>puesto de gorditas</td>\n",
       "      <td>No_Alcohol_Served</td>\n",
       "      <td>informal</td>\n",
       "      <td>no_accessibility</td>\n",
       "      <td>permitted</td>\n",
       "      <td>low</td>\n",
       "      <td>familiar</td>\n",
       "      <td>open</td>\n",
       "      <td>none</td>\n",
       "      <td>cash</td>\n",
       "      <td>Regional</td>\n",
       "      <td>08:00-12:00;</td>\n",
       "      <td>Mon;Tue;Wed;Thu;Fri;</td>\n",
       "      <td>public</td>\n",
       "    </tr>\n",
       "    <tr>\n",
       "      <th>1</th>\n",
       "      <td>puesto de gorditas</td>\n",
       "      <td>No_Alcohol_Served</td>\n",
       "      <td>informal</td>\n",
       "      <td>no_accessibility</td>\n",
       "      <td>permitted</td>\n",
       "      <td>low</td>\n",
       "      <td>familiar</td>\n",
       "      <td>open</td>\n",
       "      <td>none</td>\n",
       "      <td>cash</td>\n",
       "      <td>Regional</td>\n",
       "      <td>00:00-00:00;</td>\n",
       "      <td>Sat;</td>\n",
       "      <td>public</td>\n",
       "    </tr>\n",
       "    <tr>\n",
       "      <th>2</th>\n",
       "      <td>puesto de gorditas</td>\n",
       "      <td>No_Alcohol_Served</td>\n",
       "      <td>informal</td>\n",
       "      <td>no_accessibility</td>\n",
       "      <td>permitted</td>\n",
       "      <td>low</td>\n",
       "      <td>familiar</td>\n",
       "      <td>open</td>\n",
       "      <td>none</td>\n",
       "      <td>cash</td>\n",
       "      <td>Regional</td>\n",
       "      <td>00:00-00:00;</td>\n",
       "      <td>Sun;</td>\n",
       "      <td>public</td>\n",
       "    </tr>\n",
       "    <tr>\n",
       "      <th>3</th>\n",
       "      <td>Cafe Chaires</td>\n",
       "      <td>No_Alcohol_Served</td>\n",
       "      <td>informal</td>\n",
       "      <td>completely</td>\n",
       "      <td>not permitted</td>\n",
       "      <td>low</td>\n",
       "      <td>familiar</td>\n",
       "      <td>closed</td>\n",
       "      <td>none</td>\n",
       "      <td>cash</td>\n",
       "      <td>Cafeteria</td>\n",
       "      <td>00:00-23:30;</td>\n",
       "      <td>Mon;Tue;Wed;Thu;Fri;</td>\n",
       "      <td>yes</td>\n",
       "    </tr>\n",
       "    <tr>\n",
       "      <th>4</th>\n",
       "      <td>Cafe Chaires</td>\n",
       "      <td>No_Alcohol_Served</td>\n",
       "      <td>informal</td>\n",
       "      <td>completely</td>\n",
       "      <td>not permitted</td>\n",
       "      <td>low</td>\n",
       "      <td>familiar</td>\n",
       "      <td>closed</td>\n",
       "      <td>none</td>\n",
       "      <td>cash</td>\n",
       "      <td>Cafeteria</td>\n",
       "      <td>00:00-23:30;</td>\n",
       "      <td>Sat;</td>\n",
       "      <td>yes</td>\n",
       "    </tr>\n",
       "  </tbody>\n",
       "</table>\n",
       "</div>"
      ],
      "text/plain": [
       "                 name            alcohol dress_code     accessibility  \\\n",
       "0  puesto de gorditas  No_Alcohol_Served   informal  no_accessibility   \n",
       "1  puesto de gorditas  No_Alcohol_Served   informal  no_accessibility   \n",
       "2  puesto de gorditas  No_Alcohol_Served   informal  no_accessibility   \n",
       "3        Cafe Chaires  No_Alcohol_Served   informal        completely   \n",
       "4        Cafe Chaires  No_Alcohol_Served   informal        completely   \n",
       "\n",
       "    smoking_area price Rambience    area other_services Rpayment   Rcuisine  \\\n",
       "0      permitted   low  familiar    open           none     cash   Regional   \n",
       "1      permitted   low  familiar    open           none     cash   Regional   \n",
       "2      permitted   low  familiar    open           none     cash   Regional   \n",
       "3  not permitted   low  familiar  closed           none     cash  Cafeteria   \n",
       "4  not permitted   low  familiar  closed           none     cash  Cafeteria   \n",
       "\n",
       "          hours                  days parking_lot  \n",
       "0  08:00-12:00;  Mon;Tue;Wed;Thu;Fri;      public  \n",
       "1  00:00-00:00;                  Sat;      public  \n",
       "2  00:00-00:00;                  Sun;      public  \n",
       "3  00:00-23:30;  Mon;Tue;Wed;Thu;Fri;         yes  \n",
       "4  00:00-23:30;                  Sat;         yes  "
      ]
     },
     "execution_count": 8,
     "metadata": {},
     "output_type": "execute_result"
    }
   ],
   "source": [
    "df.head()"
   ]
  },
  {
   "cell_type": "markdown",
   "metadata": {},
   "source": [
    "--------------------------------------------- APARTIR DE AQUÍ EMPEZAMOS ----------------------------------------"
   ]
  },
  {
   "cell_type": "code",
   "execution_count": 98,
   "metadata": {},
   "outputs": [],
   "source": [
    "df[\"Mon;Tue;Wed;Thu;Fri;\"] = df[df[\"days\"] == \"Mon;Tue;Wed;Thu;Fri;\"][\"hours\"]\n",
    "df[\"Sat;\"] = df[df[\"days\"] == \"Sat;\"][\"hours\"]\n",
    "df[\"Sun;\"] = df[df[\"days\"] == \"Sun;\"][\"hours\"]"
   ]
  },
  {
   "cell_type": "code",
   "execution_count": 99,
   "metadata": {},
   "outputs": [],
   "source": [
    "# Ejemplo usuario\n",
    "\n",
    "data = [[\"puesto de gorditas\", 1],\n",
    "        [\"Paniroles\", 1],\n",
    "        [\"Pollo_Frito_Buenos_Aires\", 0]\n",
    "        ]\n",
    "df_ana = pd.DataFrame(data = data, columns = [\"name\", \"rating\"])"
   ]
  },
  {
   "cell_type": "code",
   "execution_count": 100,
   "metadata": {},
   "outputs": [],
   "source": [
    "# Buscando características de los restaurantes en los que el usuario ha estado\n",
    "df_busqueda = pd.DataFrame()\n",
    "for restaurante in df_ana.name:\n",
    "    df_busqueda = pd.concat([df_busqueda, df[(df[\"name\"] == restaurante)]], ignore_index=True)"
   ]
  }
 ],
 "metadata": {
  "kernelspec": {
   "display_name": "base",
   "language": "python",
   "name": "python3"
  },
  "language_info": {
   "codemirror_mode": {
    "name": "ipython",
    "version": 3
   },
   "file_extension": ".py",
   "mimetype": "text/x-python",
   "name": "python",
   "nbconvert_exporter": "python",
   "pygments_lexer": "ipython3",
   "version": "3.11.5"
  }
 },
 "nbformat": 4,
 "nbformat_minor": 2
}
